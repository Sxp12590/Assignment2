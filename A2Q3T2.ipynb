{
  "nbformat": 4,
  "nbformat_minor": 0,
  "metadata": {
    "colab": {
      "provenance": []
    },
    "kernelspec": {
      "name": "python3",
      "display_name": "Python 3"
    },
    "language_info": {
      "name": "python"
    }
  },
  "cells": [
    {
      "cell_type": "code",
      "execution_count": null,
      "metadata": {
        "colab": {
          "base_uri": "https://localhost:8080/"
        },
        "id": "oTgXF8U_zPYL",
        "outputId": "9aa22dc2-b5e8-474f-c708-8b015e5142a5"
      },
      "outputs": [
        {
          "output_type": "stream",
          "name": "stdout",
          "text": [
            "Original Image (4x4 matrix):\n",
            " [[0.24383221 0.6549174  0.11685921 0.08172418]\n",
            " [0.32078222 0.34945821 0.42837012 0.1242545 ]\n",
            " [0.66347859 0.61324143 0.19836457 0.81849209]\n",
            " [0.48187595 0.08270971 0.75839039 0.7237269 ]]\n",
            "\n",
            "Max-Pooled Image (2x2 Max Pooling):\n",
            " tf.Tensor(\n",
            "[[0.6549174  0.42837012]\n",
            " [0.6634786  0.8184921 ]], shape=(2, 2), dtype=float32)\n",
            "\n",
            "Average-Pooled Image (2x2 Average Pooling):\n",
            " tf.Tensor(\n",
            "[[0.39224753 0.187802  ]\n",
            " [0.4603264  0.6247435 ]], shape=(2, 2), dtype=float32)\n"
          ]
        }
      ],
      "source": [
        "import numpy as np\n",
        "import tensorflow as tf\n",
        "\n",
        "# Step 1: Create a random 4x4 matrix (image)\n",
        "input_image = np.random.rand(1, 4, 4, 1)  # Shape: (batch_size, height, width, channels)\n",
        "\n",
        "# Step 2: Apply 2x2 Max Pooling\n",
        "max_pooling_layer = tf.keras.layers.MaxPooling2D(pool_size=(2, 2), strides=2, padding='valid')\n",
        "max_pooled_image = max_pooling_layer(input_image)\n",
        "\n",
        "# Step 3: Apply 2x2 Average Pooling\n",
        "average_pooling_layer = tf.keras.layers.AveragePooling2D(pool_size=(2, 2), strides=2, padding='valid')\n",
        "average_pooled_image = average_pooling_layer(input_image)\n",
        "\n",
        "# Step 4: Print the results\n",
        "print(\"Original Image (4x4 matrix):\\n\", input_image[0, :, :, 0])  # Remove batch and channel dimensions for display\n",
        "print(\"\\nMax-Pooled Image (2x2 Max Pooling):\\n\", max_pooled_image[0, :, :, 0])  # Removing batch and channel dimensions\n",
        "print(\"\\nAverage-Pooled Image (2x2 Average Pooling):\\n\", average_pooled_image[0, :, :, 0])  # Removing batch and channel dimensions\n"
      ]
    }
  ]
}